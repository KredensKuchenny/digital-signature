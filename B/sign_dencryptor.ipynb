{
 "cells": [
  {
   "cell_type": "code",
   "execution_count": 5,
   "metadata": {},
   "outputs": [
    {
     "name": "stdout",
     "output_type": "stream",
     "text": [
      "Ok: Message verified\n"
     ]
    }
   ],
   "source": [
    "from Crypto.Hash import SHA256\n",
    "from Crypto.Signature import PKCS1_v1_5\n",
    "from Crypto.PublicKey import RSA\n",
    "\n",
    "# Message file place\n",
    "file_name = \"./message/secretMessage.png\"\n",
    "# file_name = \"./message/secretMessageModified.png\"\n",
    "\n",
    "# Open and read file\n",
    "with open(file_name, \"rb\") as f:\n",
    "    file = f.read()\n",
    "\n",
    "# Calculate SHA256\n",
    "digest = SHA256.new()\n",
    "digest.update(file)\n",
    "\n",
    "# Get recived siganture\n",
    "with open(\"./sign/sha256_sign.txt\") as f:\n",
    "    sig = f.read()\n",
    "\n",
    "# Convert signature\n",
    "sig = bytes.fromhex(sig)\n",
    "\n",
    "# Import public RSA key\n",
    "with open(\"public_key.pem\") as f:\n",
    "    public_key = RSA.importKey(f.read())\n",
    "\n",
    "# Verify received signature and file\n",
    "verifier = PKCS1_v1_5.new(public_key)\n",
    "verified = verifier.verify(digest, sig)\n",
    "\n",
    "# Inform about the correctness of the data\n",
    "if verified:\n",
    "    print(\"Ok: Message verified\")\n",
    "else:\n",
    "    print(\"Error: Message modified\")"
   ]
  }
 ],
 "metadata": {
  "kernelspec": {
   "display_name": "Python 3",
   "language": "python",
   "name": "python3"
  },
  "language_info": {
   "codemirror_mode": {
    "name": "ipython",
    "version": 3
   },
   "file_extension": ".py",
   "mimetype": "text/x-python",
   "name": "python",
   "nbconvert_exporter": "python",
   "pygments_lexer": "ipython3",
   "version": "3.10.11"
  },
  "orig_nbformat": 4
 },
 "nbformat": 4,
 "nbformat_minor": 2
}
