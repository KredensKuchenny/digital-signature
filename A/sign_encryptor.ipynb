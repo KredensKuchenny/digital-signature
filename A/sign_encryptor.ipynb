{
 "cells": [
  {
   "cell_type": "code",
   "execution_count": 9,
   "metadata": {},
   "outputs": [],
   "source": [
    "import hashlib\n",
    "from Crypto.Hash import SHA256\n",
    "from Crypto.Signature import PKCS1_v1_5\n",
    "from Crypto.PublicKey import RSA\n",
    "\n",
    "file_name = \"./message/secretMessage.png\"\n",
    "\n",
    "with open(file_name, \"rb\") as f:\n",
    "    sha256_returned = hashlib.sha3_256(f.read()).hexdigest()\n",
    "\n",
    "with open(\"private_key.pem\", \"r\") as myfile:\n",
    "    private_key = RSA.importKey(myfile.read())\n",
    "\n",
    "digest = SHA256.new()\n",
    "digest.update(sha256_returned.encode(\"utf-8\"))\n",
    "\n",
    "signer = PKCS1_v1_5.new(private_key)\n",
    "sig = signer.sign(digest)\n",
    "\n",
    "with open(\"../B/sign/sha256_sign.txt\", \"w\") as file:\n",
    "    file.write(sig.hex())"
   ]
  }
 ],
 "metadata": {
  "kernelspec": {
   "display_name": "Python 3",
   "language": "python",
   "name": "python3"
  },
  "language_info": {
   "codemirror_mode": {
    "name": "ipython",
    "version": 3
   },
   "file_extension": ".py",
   "mimetype": "text/x-python",
   "name": "python",
   "nbconvert_exporter": "python",
   "pygments_lexer": "ipython3",
   "version": "3.10.11"
  },
  "orig_nbformat": 4
 },
 "nbformat": 4,
 "nbformat_minor": 2
}
