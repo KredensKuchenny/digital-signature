{
 "cells": [
  {
   "cell_type": "code",
   "execution_count": 2,
   "metadata": {},
   "outputs": [],
   "source": [
    "from Crypto.Hash import SHA256\n",
    "from Crypto.Signature import PKCS1_v1_5\n",
    "from Crypto.PublicKey import RSA\n",
    "\n",
    "# Message file place\n",
    "file_name = \"./message/secretMessage.png\"\n",
    "\n",
    "# Open and read file\n",
    "with open(file_name, \"rb\") as f:\n",
    "    file = f.read()\n",
    "\n",
    "# Import private RSA key\n",
    "with open(\"private_key.pem\", \"r\") as myfile:\n",
    "    private_key = RSA.importKey(myfile.read())\n",
    "\n",
    "# Calculate SHA256\n",
    "digest = SHA256.new()\n",
    "digest.update(file)\n",
    "\n",
    "# Create siganture using private key\n",
    "signer = PKCS1_v1_5.new(private_key)\n",
    "sig = signer.sign(digest)\n",
    "\n",
    "# Save siganture to file\n",
    "with open(\"../B/sign/sha256_sign.txt\", \"w\") as file:\n",
    "    file.write(sig.hex())"
   ]
  }
 ],
 "metadata": {
  "kernelspec": {
   "display_name": "Python 3",
   "language": "python",
   "name": "python3"
  },
  "language_info": {
   "codemirror_mode": {
    "name": "ipython",
    "version": 3
   },
   "file_extension": ".py",
   "mimetype": "text/x-python",
   "name": "python",
   "nbconvert_exporter": "python",
   "pygments_lexer": "ipython3",
   "version": "3.10.11"
  },
  "orig_nbformat": 4
 },
 "nbformat": 4,
 "nbformat_minor": 2
}
